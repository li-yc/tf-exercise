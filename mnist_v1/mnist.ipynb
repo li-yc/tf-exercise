{
 "cells": [
  {
   "cell_type": "code",
   "execution_count": 1,
   "metadata": {
    "collapsed": true
   },
   "outputs": [],
   "source": [
    "import tensorflow as tf\n",
    "sess = tf.InteractiveSession()"
   ]
  },
  {
   "cell_type": "code",
   "execution_count": 2,
   "metadata": {},
   "outputs": [
    {
     "name": "stdout",
     "output_type": "stream",
     "text": [
      "Successfully downloaded train-images-idx3-ubyte.gz 9912422 bytes.\nExtracting MNIST_data/train-images-idx3-ubyte.gz\n"
     ]
    },
    {
     "name": "stdout",
     "output_type": "stream",
     "text": [
      "Successfully downloaded train-labels-idx1-ubyte.gz 28881 bytes.\nExtracting MNIST_data/train-labels-idx1-ubyte.gz\n"
     ]
    },
    {
     "name": "stdout",
     "output_type": "stream",
     "text": [
      "Successfully downloaded t10k-images-idx3-ubyte.gz 1648877 bytes.\nExtracting MNIST_data/t10k-images-idx3-ubyte.gz\n"
     ]
    },
    {
     "name": "stdout",
     "output_type": "stream",
     "text": [
      "Successfully downloaded t10k-labels-idx1-ubyte.gz 4542 bytes.\nExtracting MNIST_data/t10k-labels-idx1-ubyte.gz\n"
     ]
    }
   ],
   "source": [
    "from tensorflow.examples.tutorials.mnist import input_data\n",
    "mnist = input_data.read_data_sets('MNIST_data', one_hot=True)"
   ]
  },
  {
   "cell_type": "code",
   "execution_count": 6,
   "metadata": {},
   "outputs": [
    {
     "name": "stdout",
     "output_type": "stream",
     "text": [
      "[ 0.          0.          0.          0.          0.          0.          0.\n  0.          0.          0.          0.          0.          0.          0.\n  0.          0.          0.          0.          0.          0.          0.\n  0.          0.          0.          0.          0.          0.          0.\n  0.          0.          0.          0.          0.          0.          0.\n  0.          0.          0.          0.          0.          0.          0.\n  0.          0.          0.          0.          0.          0.          0.\n  0.          0.          0.          0.          0.          0.          0.\n  0.          0.          0.          0.          0.          0.          0.\n  0.          0.          0.          0.          0.          0.          0.\n  0.          0.          0.          0.          0.          0.          0.\n  0.          0.          0.          0.          0.          0.          0.\n  0.          0.          0.          0.          0.          0.          0.\n  0.          0.          0.          0.          0.          0.          0.\n  0.          0.          0.          0.          0.          0.          0.\n  0.          0.          0.          0.          0.          0.          0.\n  0.          0.          0.          0.          0.          0.          0.\n  0.          0.          0.          0.          0.          0.          0.\n  0.          0.          0.          0.          0.          0.          0.\n  0.          0.          0.          0.          0.          0.          0.\n  0.          0.          0.          0.          0.          0.          0.\n  0.          0.          0.49019611  0.99215692  0.38431376  0.16470589\n  0.          0.          0.          0.          0.          0.          0.\n  0.          0.          0.          0.          0.          0.          0.\n  0.          0.          0.          0.          0.          0.          0.\n  0.          0.          0.          0.99215692  0.98431379  0.98431379\n  0.55686277  0.          0.          0.          0.          0.          0.\n  0.          0.          0.          0.          0.          0.          0.\n  0.          0.          0.          0.          0.          0.          0.\n  0.          0.          0.          0.          0.89019614  0.98431379\n  0.98431379  0.55686277  0.          0.          0.          0.          0.\n  0.          0.          0.          0.          0.          0.          0.\n  0.          0.          0.          0.          0.          0.          0.\n  0.          0.          0.          0.          0.          0.28627452\n  0.98431379  0.98431379  0.55686277  0.          0.          0.          0.\n  0.          0.          0.          0.          0.          0.          0.\n  0.          0.          0.          0.          0.          0.          0.\n  0.          0.          0.          0.          0.          0.\n  0.28627452  0.98431379  0.98431379  0.55686277  0.          0.          0.\n  0.          0.          0.          0.          0.          0.          0.\n  0.          0.          0.          0.          0.          0.          0.\n  0.          0.          0.          0.          0.          0.\n  0.20784315  1.          0.99215692  0.99215692  0.56078434  0.          0.\n  0.          0.          0.          0.          0.          0.          0.\n  0.          0.          0.          0.          0.          0.          0.\n  0.          0.          0.          0.          0.          0.          0.\n  0.70588237  0.99215692  0.98431379  0.90196085  0.2392157   0.          0.\n  0.          0.49019611  0.56470591  0.16078432  0.          0.          0.\n  0.          0.          0.          0.          0.          0.          0.\n  0.          0.          0.          0.          0.          0.02352941\n  0.45098042  0.9450981   0.99215692  0.98431379  0.86274517  0.14509805\n  0.14509805  0.34901962  0.85098046  0.96470594  0.98431379  0.88627458\n  0.          0.          0.          0.          0.          0.          0.\n  0.          0.          0.          0.          0.          0.          0.\n  0.          0.45098042  0.98431379  0.98431379  0.99215692  0.98431379\n  0.98431379  0.98431379  0.98431379  0.99215692  0.98431379  0.98431379\n  0.98431379  0.98431379  0.          0.          0.          0.          0.\n  0.          0.          0.          0.          0.          0.          0.\n  0.          0.          0.          0.85098046  0.98431379  0.98431379\n  0.99215692  0.98431379  0.98431379  0.98431379  0.98431379  0.99215692\n  0.98431379  0.98431379  0.98431379  0.98431379  0.          0.          0.\n  0.          0.          0.          0.          0.          0.          0.\n  0.          0.          0.          0.          0.          0.10588236\n  0.83137262  0.99215692  1.          0.99215692  0.99215692  0.99215692\n  0.99215692  0.91764712  0.70588237  0.95294124  0.99215692  0.99215692\n  0.20784315  0.          0.          0.          0.          0.          0.\n  0.          0.          0.          0.          0.          0.          0.\n  0.          0.          0.18431373  0.41960788  0.42352945  0.41960788\n  0.41960788  0.41960788  0.41960788  0.3019608   0.          0.44313729\n  0.98431379  0.98431379  0.8705883   0.24313727  0.          0.          0.\n  0.          0.          0.          0.          0.          0.          0.\n  0.          0.          0.          0.          0.          0.          0.\n  0.          0.          0.          0.          0.          0.\n  0.14509805  0.98431379  0.98431379  0.99215692  0.50196081  0.01960784\n  0.          0.          0.          0.          0.          0.          0.\n  0.          0.          0.          0.          0.          0.          0.\n  0.          0.          0.          0.          0.          0.          0.\n  0.          0.14509805  0.98431379  0.98431379  0.99215692  0.98431379\n  0.13725491  0.          0.          0.          0.          0.          0.\n  0.          0.          0.          0.          0.          0.          0.\n  0.          0.          0.          0.          0.          0.          0.\n  0.          0.          0.14509805  0.98431379  0.98431379  0.99215692\n  0.98431379  0.13725491  0.          0.          0.          0.          0.\n  0.          0.          0.          0.          0.          0.          0.\n  0.          0.          0.          0.          0.          0.          0.\n  0.          0.          0.          0.          0.43137258  0.99215692\n  1.          0.99215692  0.13725491  0.          0.          0.          0.\n  0.          0.          0.          0.          0.          0.          0.\n  0.          0.          0.          0.          0.          0.          0.\n  0.          0.          0.          0.          0.          0.18431373\n  0.82352948  0.99215692  0.98431379  0.5411765   0.          0.          0.\n  0.          0.          0.          0.          0.          0.          0.\n  0.          0.          0.          0.          0.          0.          0.\n  0.          0.          0.          0.          0.          0.          0.\n  0.70588237  0.99215692  0.98431379  0.84313732  0.          0.          0.\n  0.          0.          0.          0.          0.          0.          0.\n  0.          0.          0.          0.          0.          0.          0.\n  0.          0.          0.          0.          0.          0.          0.\n  0.4039216   0.99215692  0.98431379  0.84313732  0.          0.          0.\n  0.          0.          0.          0.          0.          0.          0.\n  0.          0.          0.          0.          0.          0.          0.\n  0.          0.          0.          0.          0.          0.          0.\n  0.          0.48627454  0.98431379  0.33725491  0.          0.          0.\n  0.          0.          0.          0.          0.          0.          0.\n  0.          0.          0.          0.          0.          0.          0.\n  0.          0.          0.          0.          0.          0.          0.\n  0.          0.          0.          0.          0.          0.          0.\n  0.          0.          0.          0.          0.          0.          0.\n  0.          0.          0.          0.          0.          0.          0.\n  0.          0.          0.          0.          0.          0.          0.\n  0.          0.          0.          0.          0.          0.          0.\n  0.          0.          0.          0.          0.          0.          0.\n  0.          0.          0.          0.          0.          0.          0.\n  0.          0.          0.          0.          0.          0.          0.\n  0.          0.          0.          0.          0.          0.          0.\n  0.          0.          0.        ]\n"
     ]
    }
   ],
   "source": [
    "batch = mnist.train.next_batch(100)\n",
    "print(batch[0][0])"
   ]
  },
  {
   "cell_type": "code",
   "execution_count": 2,
   "metadata": {},
   "outputs": [],
   "source": [
    "x = tf.placeholder(tf.float32, shape=[None, 784])\n",
    "y_ = tf.placeholder(tf.float32, shape=[None, 10])"
   ]
  },
  {
   "cell_type": "code",
   "execution_count": 4,
   "metadata": {},
   "outputs": [],
   "source": [
    "W = tf.Variable(tf.zeros([784, 10]))\n",
    "b = tf.Variable(tf.zeros([10]))"
   ]
  },
  {
   "cell_type": "code",
   "execution_count": 5,
   "metadata": {},
   "outputs": [],
   "source": [
    "sess.run(tf.global_variables_initializer())"
   ]
  },
  {
   "cell_type": "code",
   "execution_count": 6,
   "metadata": {},
   "outputs": [],
   "source": [
    "y = tf.matmul(x, W) + b"
   ]
  },
  {
   "cell_type": "code",
   "execution_count": 9,
   "metadata": {},
   "outputs": [],
   "source": [
    "cross_entropy = tf.reduce_mean(tf.nn.softmax_cross_entropy_with_logits(labels=y_, logits=y))"
   ]
  },
  {
   "cell_type": "code",
   "execution_count": 10,
   "metadata": {},
   "outputs": [],
   "source": [
    "train_step = tf.train.GradientDescentOptimizer(0.5).minimize(cross_entropy)"
   ]
  },
  {
   "cell_type": "code",
   "execution_count": 13,
   "metadata": {},
   "outputs": [],
   "source": [
    "for _ in range(2000):\n",
    "    batch = mnist.train.next_batch(100)\n",
    "    train_step.run(feed_dict={x: batch[0], y_: batch[1]})"
   ]
  },
  {
   "cell_type": "code",
   "execution_count": 14,
   "metadata": {},
   "outputs": [
    {
     "name": "stdout",
     "output_type": "stream",
     "text": [
      "0.9223\n"
     ]
    }
   ],
   "source": [
    "correct_prediction = tf.equal(tf.argmax(y, 1), tf.argmax(y_, 1))\n",
    "accuracy = tf.reduce_mean(tf.cast(correct_prediction, tf.float32))\n",
    "print(accuracy.eval(feed_dict={x: mnist.test.images, y_: mnist.test.labels}))"
   ]
  },
  {
   "cell_type": "code",
   "execution_count": null,
   "metadata": {},
   "outputs": [],
   "source": [
    ""
   ]
  }
 ],
 "metadata": {
  "kernelspec": {
   "display_name": "Python 2",
   "language": "python",
   "name": "python2"
  },
  "language_info": {
   "codemirror_mode": {
    "name": "ipython",
    "version": 2.0
   },
   "file_extension": ".py",
   "mimetype": "text/x-python",
   "name": "python",
   "nbconvert_exporter": "python",
   "pygments_lexer": "ipython2",
   "version": "2.7.6"
  }
 },
 "nbformat": 4,
 "nbformat_minor": 0
}